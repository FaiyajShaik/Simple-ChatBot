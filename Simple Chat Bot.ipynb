{
 "cells": [
  {
   "cell_type": "code",
   "execution_count": 1,
   "id": "b31b68ec",
   "metadata": {},
   "outputs": [
    {
     "data": {
      "text/plain": [
       "''"
      ]
     },
     "execution_count": 1,
     "metadata": {},
     "output_type": "execute_result"
    }
   ],
   "source": [
    "#CHAT BOAT\n",
    "from tkinter import *\n",
    "window=Tk()\n",
    "window.title(\"Faiyaj Shaik's CHAT BOT\")\n",
    "window.geometry('650x500')"
   ]
  },
  {
   "cell_type": "code",
   "execution_count": 2,
   "id": "8baff37a",
   "metadata": {},
   "outputs": [],
   "source": [
    "def catch():\n",
    "    send=\"YOU->\"+entry.get()\n",
    "    chat.insert(END,\"\\n\"+send)\n",
    "    if(entry.get()==\"hello\"):\n",
    "        chat.insert(END,\"\\n\"+\"BOT->Hi\")\n",
    "    elif(entry.get()==\"glad to meet u!!\"):\n",
    "        chat.insert(END,\"\\n\"+\"BOT->my pleasure\")\n",
    "        chat.insert(END,\"\\n\"+\"BOT->How can i help u?\")\n",
    "    elif(entry.get()==\"which is best python interpreter ?\"):\n",
    "        chat.insert(END,\"\\n\"+\"BOT->I THINK jupyter,pycharm,visual studios are quiet good\")\n",
    "    elif(entry.get()==\"how many languages do u speak?\"):\n",
    "        chat.insert(END,\"\\n\"+\"BOT->At present only 1 language \")\n",
    "    elif(entry.get()==\"which is ur favorite programming language?\"):\n",
    "        chat.insert(END,\"\\n\"+\"BOT->Ofcourse python\")  \n",
    "    elif(entry.get()==\"how to improve my coding skills?\"):\n",
    "        chat.insert(END,\"\\n\"+\"BOT->simple!! By writing codes from scratch \")     \n",
    "    elif(entry.get()==\"how to improve my coding skills?\"):\n",
    "        chat.insert(END,\"\\n\"+\"BOT->simple!! By writing codes from scratch \")\n",
    "    elif(entry.get()==\"bye bot\"):\n",
    "        chat.insert(END,\"\\n\"+\"BOT->bye have a nice day!! \")\n",
    "    else:\n",
    "        chat.insert(END,\"\\n\"+\"BOT->sorry i didn't get you!! \")    \n",
    "    entry.delete(0,END)"
   ]
  },
  {
   "cell_type": "code",
   "execution_count": 3,
   "id": "feee000f",
   "metadata": {},
   "outputs": [],
   "source": [
    "chat=Text(window)\n",
    "chat.grid(row=0,column=0,columnspan=3)\n",
    "entry=Entry(window,width=100)\n",
    "entry.grid(row=1,column=0)\n",
    "bt=Button(window,text=\"SEND\",command=catch).grid(row=1,column=1)\n",
    "window.mainloop()"
   ]
  },
  {
   "cell_type": "code",
   "execution_count": null,
   "id": "eb862d2c",
   "metadata": {},
   "outputs": [],
   "source": []
  }
 ],
 "metadata": {
  "kernelspec": {
   "display_name": "Python 3 (ipykernel)",
   "language": "python",
   "name": "python3"
  },
  "language_info": {
   "codemirror_mode": {
    "name": "ipython",
    "version": 3
   },
   "file_extension": ".py",
   "mimetype": "text/x-python",
   "name": "python",
   "nbconvert_exporter": "python",
   "pygments_lexer": "ipython3",
   "version": "3.9.12"
  }
 },
 "nbformat": 4,
 "nbformat_minor": 5
}
